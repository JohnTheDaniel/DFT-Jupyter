{
 "cells": [
  {
   "cell_type": "markdown",
   "metadata": {
    "slideshow": {
     "slide_type": "slide"
    }
   },
   "source": [
    "# En introduktion till DFT\n",
    "### Av Martin Gulliksson och John Daniel Bossér\n",
    "\n",
    "DFT står för Density Functional Theory, på svenska täthetsfunktionalteori, och används för att beräkna grundtillstånd för flerelektronsystem. \n"
   ]
  },
  {
   "cell_type": "markdown",
   "metadata": {},
   "source": [
    "Att räkna kvantmekaniskt på flerelektronssytem är svårt. För att göra det göra beräkningarna lättare\n",
    "görs tre förenklingar i DFT:"
   ]
  },
  {
   "cell_type": "markdown",
   "metadata": {
    "slideshow": {
     "slide_type": "skip"
    }
   },
   "source": [
    " * **Born-Oppenheimer approximationen**: \n",
    " \n",
    "   Vågfunktionen för en atom kan med god noggrannhet separeras i två delar, en för atomkärnan och en\n",
    "   för elektronerna kring kärnan \n",
    "   \n",
    "$$\\begin{equation*}\n",
    "   \\Psi_\\text{atom} \\approx \\Psi_\\text{atomkärna} \\cdot \\Psi_\\text{elektroner}.\n",
    "\\end{equation*}$$\n",
    "   \n",
    "   Med denna uppdelning är det möjligt att lösa vågfunktionen för elektronerna oberoende av atomkärnans rörelse. \n",
    "   Detta kan motiveras med att atomkärnor har mycket större massa än elektroner och de rör sig därför\n",
    "   med olika tidsskalor. I fortsättningen kommer $\\Psi_\\text{elektroner}$ kallas enbart $\\Psi$."
   ]
  },
  {
   "cell_type": "markdown",
   "metadata": {},
   "source": [
    " * **Ersätt elektronväxelverkan med potentialterm**:\n",
    " \n",
    "   En ytterligare förenkling av problemet är att elektronerna ersätts av teoretiska icke-interagerande partiklar. Vågfunktionen $\\Psi(x_1, ..., x_N)$ för de $N$ antal elektronerna kan då delas upp i $N$ antal ortogonala vågfunktioner $\\psi_i(x_i)$, en för varje elektron. På detta sätt kan vågfunktionen för varje elektron lösas var för sig, oberoende av de andra elektronerna. För att uppdelningen ska uppfylla Pauliprincipen måste den anta formen\n",
    "\n",
    "$$\\begin{equation*}\n",
    "    \\Psi = \\frac{1}{\\sqrt{N \\text{!}}} \\left| \\begin{matrix}\n",
    "        \\psi_1(\\vec{x_1}) & \\psi_2(\\vec{x_1}) & \\dots & \\psi_N(\\vec{x_1}) \\\\\n",
    "        \\psi_1(\\vec{x_2}) & \\psi_2(\\vec{x_2}) & \\dots & \\psi_N(\\vec{x_2}) \\\\\n",
    "        \\vdots & \\vdots & \\ddots & \\vdots \\\\\n",
    "        \\psi_1(\\vec{x_N}) & \\psi_2(\\vec{x_N}) & \\dots & \\psi_N(\\vec{x_N}) \\\\\n",
    "    \\end{matrix} \\right|,\n",
    "\\end{equation*}$$\n",
    "\n",
    "  där $\\vec{x}_i$ är rums- och spinnkoordinaterna för partikel $i$. Detta motiveras mer på sidan om [beräkning av elektrontäthet](electron-density.html). Dessa teoretiska partiklar benämns _Kohn-Sham-partiklar_, och beter sig precis som vanliga elektroner med undantaget för växelverkan sinsemellan. För att Kohn-Sham-partiklarna ska bete sig likt elektroner införs en extra term i potentialen som approximativt kompenserar avsaknaden av växelverkan. "
   ]
  },
  {
   "cell_type": "markdown",
   "metadata": {},
   "source": [
    " * **Uttryck problemet i termer av elektrontäthet**:\n",
    "\n",
    " Att uttrycka problemet i termer av elektrontätheten $n(\\vec{r})$ förenklar problemet avsevärt, eftersom antalet \n",
    " koordinater reduceras från tre per elektron till totalt tre. Alla potentialer och energier kan uttryckas som \n",
    " funktional av elektrontätheten, och är enligt _Första Hohenberg-Kohn-teoremet_  ekvivalent med att uttrycka\n",
    " dem i termer av vågfunktioner. Hur elektrontätheten beräknas\n",
    " från elektronernas vågfunktioner specificeras på sidan [beräkning av elektrontäthet](electron-density.html). "
   ]
  },
  {
   "cell_type": "markdown",
   "metadata": {},
   "source": [
    "Utifrån dessa förenklingar kan Schrödingerekvationen för varje Kohn-Sham-partikel skrivas om som ett egenvärdesproblem som kallas _Kohn-Shams ekvation_\n",
    "\n",
    "$$\\begin{equation}\n",
    "    \\label{eq:kohn}\n",
    "    \\left[-\\frac{1}{2}\\nabla^2 + V_\\text{eff}(\\vec{r}) \\right] \\psi_i(\\vec{r}) = \\varepsilon_i \\psi_i(\\vec{r}),\n",
    "\\end{equation}$$\n",
    "\n",
    "där $\\varepsilon_i$ är energiegenvärden och $V_\\text{eff}$ den _effektiva potentialen_ som respektive Kohn-Sham-partikel upplever. Beräkningsalgoritmen, som kallas _Hartree–Fock-metoden_, bygger på att upprepade gånger lösa denna ekvation. Varje enskilt steg förklaras och motiveras i de nästkommande kapitlen. En visualisering av tillvägagångssättet visas i figuren nedan, och kan sammanfattas i 6 steg:\n",
    "\n",
    "<img src=\"../Assets/SCF_varm.svg\" alt=\"Drawing\" style=\"width:50%;\"/>\n",
    "\n",
    "1. Systemet diskretiseras i rummet och en inledande gissning av vågfunktionerna $\\psi_i^{(0)}$ ställs upp.\n",
    "\n",
    "2. [I varje punkt beräknas elektrontätheten](electron-density.html) $n(\\vec{r})^{(0)}$.\n",
    "\n",
    "3. Från den beräknade elektrontätheten $n(\\vec{r})^{(0)}$ [utvärderas den effektiva potentialen](energibidrag.html) $V_\\text{eff}$ \n",
    "   och [systemets totala energi](total_energy.html) $E[n]$.\n",
    "\n",
    "4. [Kohn-Shams ekvation](kohn-sham.html) löses med hjälp av $V_\\text{eff}$, vilket ger nya elektronorbitaler \n",
    "   $\\psi_i^{(1)}$.\n",
    "\n",
    "5. De nya elektronorbitalerna används i steg 2 för att hitta $n(\\vec{r})^{(1)}$ och den tillhörande \n",
    "   energin $E[n]$, och processen upprepas.\n",
    "\n",
    "6. Om skillnaden i total energi $E[n]$ mellan två iterationer är mindre än något bestämt \n",
    "   tröskelvärde stoppas programmet. Grundtillståndsenergin $E[n(\\vec{r})^{(\\text{final})}]$ \n",
    "   och grundtillståndselektronorbitalerna $\\psi_i^{(\\text{final})}$ är nu beräknade med \n",
    "   den önskade noggrannheten."
   ]
  },
  {
   "cell_type": "markdown",
   "metadata": {},
   "source": [
    "I denna notebook presenteras ett exempel på DFT implementerat i Python för att beräkna grundtillståndet för helium. Helium är ett flerelektronsystem som är sfäriskt symmetriskt, vilket förenklar implementationen. "
   ]
  },
  {
   "cell_type": "markdown",
   "metadata": {},
   "source": [
    "Notebooken innehåller följande artiklar\n",
    " * [Teoriavsnitt om energibidrag och uppdelning av effektiva potentialen](energibidrag.html)\n",
    "     * [Uträkning av externt potentialbidrag](Extern-potential.html)\n",
    "     * [Uträkning av Hartreepotential](hartreepotential.html)\n",
    "     * [Uträkning av exchange correlation-bidrag med LDA](exchange-correlation.html)\n",
    " * [Lösning av Kohn-Shams ekvation med effektiv potential](kohn-sham.html)\n",
    " * [Uträkning av total energi för systemet](total_energy.html)\n",
    " \n",
    "Denna notebook är skrivet i pedagogiskt syfte. Förhoppningen är att en läsare skall, med hjälp av denna notebook, kunna implementera DFT i sitt egna program. "
   ]
  },
  {
   "cell_type": "markdown",
   "metadata": {},
   "source": [
    "Efter att ha gjort en implementation i Python har följande main-loop konstruerats. "
   ]
  },
  {
   "cell_type": "code",
   "execution_count": 1,
   "metadata": {},
   "outputs": [
    {
     "name": "stdout",
     "output_type": "stream",
     "text": [
      "Calculating helium ground state...\n",
      "Ground state energy = -2.75246590242\n"
     ]
    },
    {
     "data": {
      "image/png": "[encoded data removed]",
      "text/plain": [
       "<matplotlib.figure.Figure at 0x102f9ed30>"
      ]
     },
     "metadata": {},
     "output_type": "display_data"
    },
    {
     "data": {
      "image/png": "[encoded data removed]",
      "text/plain": [
       "<matplotlib.figure.Figure at 0x106c4c7b8>"
      ]
     },
     "metadata": {},
     "output_type": "display_data"
    }
   ],
   "source": [
    "%matplotlib inline \n",
    "\n",
    "#!/usr/bin/env python\n",
    "# -*- coding: utf-8 -*-\n",
    "#\n",
    "#  heliumdft.py\n",
    "#\n",
    "#  Copyright 2018 Martin Gulliksson <martin@martingulliksson.com>\n",
    "#             and John Daniel Bossér <john.daniel@bosser.com>\n",
    "#\n",
    "#  This program is free software; you can redistribute it and/or modify\n",
    "#  it under the terms of the GNU General Public License as published by\n",
    "#  the Free Software Foundation; either version 2 of the License, or\n",
    "#  (at your option) any later version.\n",
    "#\n",
    "#  This program is distributed in the hope that it will be useful,\n",
    "#  but WITHOUT ANY WARRANTY; without even the implied warranty of\n",
    "#  MERCHANTABILITY or FITNESS FOR A PARTICULAR PURPOSE.  See the\n",
    "#  GNU General Public License for more details.\n",
    "#\n",
    "#  You should have received a copy of the GNU General Public License\n",
    "#  along with this program; if not, write to the Free Software\n",
    "#  Foundation, Inc., 51 Franklin Street, Fifth Floor, Boston,\n",
    "#  MA 02110-1301, USA.\n",
    "#\n",
    "#\n",
    "import numpy as np\n",
    "import matplotlib.pyplot as plt\n",
    "from components.misc import get_n\n",
    "from components.hartree import get_hartree_potential\n",
    "from components.xc import get_V_x, get_V_xc, get_V_xc_Vosko\n",
    "from components.kohnsham import solve_ks\n",
    "\n",
    "max_iterations = 12\n",
    "\n",
    "## 1. Sample space in radius from nucleus.\n",
    "r_max = 15\n",
    "r_step = 0.015\n",
    "r = np.arange(0, r_max, r_step)\n",
    "\n",
    "## 1. Make an initial guess for the wave function. \n",
    "psi = 1 / np.sqrt(np.pi) * np.exp(-r)\n",
    "      \n",
    "Z = 2                   # Number of protons in nucleus\n",
    "E_vec = []              # Calculated energies in each iteration\n",
    "\n",
    "## Conditions for exiting the program\n",
    "tolerance = 1e-7\n",
    "\n",
    "print(\"Calculating helium ground state...\") \n",
    "\n",
    "# Loop/run the program until conditions are met. \n",
    "while len(E_vec) < 2 or (abs(E_vec[-1] - E_vec[-2]) > tolerance and len(E_vec) < max_iterations):\n",
    "    # 2. Get the density in every point in space\n",
    "    n = get_n(psi)\n",
    "    \n",
    "    # 3. Get potential terms\n",
    "    V_sH = get_hartree_potential(r, n)\n",
    "    V_H = 2 * V_sH\n",
    "    V_xc = get_V_xc_Vosko(n)\n",
    "\n",
    "    # 4 and 5. Solve Kohn-Sham and get total energy. \n",
    "    E, psi = solve_ks(r, Z, V_H, V_xc)\n",
    "    \n",
    "    # Add calculated energy to list\n",
    "    E_vec.append(E)\n",
    "    \n",
    "print(\"Ground state energy =\", E_vec[-1])\n",
    "\n",
    "## Calculate electron densities\n",
    "n = get_n(psi)\n",
    "\n",
    "## Plot electron densities\n",
    "plt.grid()\n",
    "plt.xlabel(\"Distance from nucleus, $r$ [$a_0$]\")\n",
    "plt.ylabel(\"Electron density $n$, [$a_0^{-3}$]\")\n",
    "plt.plot(r[1:], n[1:])\n",
    "plt.axis([0,3, 0, 3.5])\n",
    "plt.show()\n",
    "\n",
    "## Plot the calculated energies for every iteration in Hartree-Fock loop. \n",
    "## Does it converge? ;)\n",
    "plt.grid()\n",
    "plt.xlabel(\"Iteration number\", fontsize='x-large')\n",
    "plt.ylabel(\"Energy [Ha]\", fontsize='x-large')\n",
    "plt.xticks(fontsize='large')\n",
    "plt.yticks(fontsize='large')\n",
    "x = np.arange(1, len(E_vec) + 1)\n",
    "plt.plot(x, E_vec)\n",
    "plt.show()"
   ]
  },
  {
   "cell_type": "markdown",
   "metadata": {},
   "source": [
    "Programmet möjliggjorde undersökning av heliums grundtillståndsenergi uträknat med respektive utan LDA. I tabellen nedan presenteras beräknad totala energi för några iterationssteg för de två implementationerna"
   ]
  },
  {
   "cell_type": "markdown",
   "metadata": {},
   "source": [
    "| Iterationsnummer | 1     | 2     | 3     | ... | 7     | ... | 13    |\n",
    "|------------------|-------|-------|-------|-----|-------|-----|-------|\n",
    "| Med LDA [Ha]     | -3,40 | -2,52 | -2,87 | ... | -2.75 | ... | -2.75 |\n",
    "| Utan LDA [Ha]    | -3.18 | -2,78 | -2,88 | ... | -2,86 | ... | -2,86 |"
   ]
  },
  {
   "cell_type": "markdown",
   "metadata": {},
   "source": [
    "Exmperimentellt har man visat att heliums grundtillståndsenergi är -2,9 Ha. Från tabellen framgår det att LDA är en dålig uppskattning av exchange correlation-bidragen till heliums grundtillståndsenergi. Detta beror troligtvis på att elektronmolnet i helium inte kan approximeras som en homogen elektrongas. Vidare ger LDA upphov till __självinteraktionsfel__, vilket innebär att elektronerna uppskattas interagera med sig själva. Självinteraktionen beror på att LDA enbart tar hänsyn till elektrontätheten $n$. Exempelvis erhålles nollskillda  $n$ och $E_\\text{xc}$ i enelektronsystem med LDA.\n",
    "\n",
    "LDA användes för den enkla implementationen eftersom metoden är förhållandevis simpel att förklara och tillämpa. Bristerna hos LDA är kända och resultaten som erhölls är därför inte förvånande."
   ]
  }
 ],
 "metadata": {
  "kernelspec": {
   "display_name": "Python 3",
   "language": "python",
   "name": "python3"
  },
  "language_info": {
   "codemirror_mode": {
    "name": "ipython",
    "version": 3
   },
   "file_extension": ".py",
   "mimetype": "text/x-python",
   "name": "python",
   "nbconvert_exporter": "python",
   "pygments_lexer": "ipython3",
   "version": "3.6.5"
  }
 },
 "nbformat": 4,
 "nbformat_minor": 2
}
