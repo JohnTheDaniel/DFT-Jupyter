{
 "cells": [
  {
   "cell_type": "markdown",
   "metadata": {
    "slideshow": {
     "slide_type": "slide"
    }
   },
   "source": [
    "# En introduktion till DFT\n",
    "\n",
    "DFT står för Density Functional Theory, på svenska täthetsfunktionalteori, och används för att beräkna grundtillstånd för flerelektronsystem. \n"
   ]
  },
  {
   "cell_type": "markdown",
   "metadata": {},
   "source": [
    "Att räkna kvantmekaniskt på flerelektronssytem är svårt. För att göra det göra beräkningarna lättare\n",
    "görs tre förenklingar i DFT:"
   ]
  },
  {
   "cell_type": "markdown",
   "metadata": {
    "slideshow": {
     "slide_type": "skip"
    }
   },
   "source": [
    " * **Born-Oppenheimer approximationen**: \n",
    " \n",
    "   Vågfunktionen för en atom kan med god noggrannhet separeras i två delar, en för atomkärnan och en\n",
    "   för elektronerna kring kärnan \n",
    "   \n",
    "$$\\begin{equation*}\n",
    "   \\Psi_\\text{atom} \\approx \\Psi_\\text{atomkärna} \\cdot \\Psi_\\text{elektroner}.\n",
    "\\end{equation*}$$\n",
    "   \n",
    "   Med denna uppdelning är det möjligt att lösa vågfunktionen för elektronerna oberoende av atomkärnans rörelse. \n",
    "   Detta kan motiveras med att atomkärnor har mycket större massa än elektroner och de rör sig därför\n",
    "   med olika tidsskalor. I fortsättningen kommer $\\Psi_\\text{elektroner}$ kallas enbart $\\Psi$."
   ]
  },
  {
   "cell_type": "markdown",
   "metadata": {},
   "source": [
    " * **Ersätt elektronväxelverkan med potentialterm**:\n",
    " \n",
    "   En ytterligare förenkling av problemet är att elektronerna ersätts av teoretiska icke-interagerande partiklar. Vågfunktionen $\\Psi(x_1, ..., x_N)$ för de $N$ antal elektronerna kan då delas upp i $N$ antal ortogonala vågfunktioner $\\psi_i(x_i)$, en för varje elektron. På detta sätt kan vågfunktionen för varje elektron lösas var för sig, oberoende av de andra elektronerna. För att uppdelningen ska uppfylla Pauliprincipen måste den anta formen\n",
    "\n",
    "$$\\begin{equation*}\n",
    "    \\Psi = \\frac{1}{\\sqrt{N \\text{!}}} \\left| \\begin{matrix}\n",
    "        \\psi_1(\\vec{x_1}) & \\psi_2(\\vec{x_1}) & \\dots & \\psi_N(\\vec{x_1}) \\\\\n",
    "        \\psi_1(\\vec{x_2}) & \\psi_2(\\vec{x_2}) & \\dots & \\psi_N(\\vec{x_2}) \\\\\n",
    "        \\vdots & \\vdots & \\ddots & \\vdots \\\\\n",
    "        \\psi_1(\\vec{x_N}) & \\psi_2(\\vec{x_N}) & \\dots & \\psi_N(\\vec{x_N}) \\\\\n",
    "    \\end{matrix} \\right|,\n",
    "\\end{equation*}$$\n",
    "\n",
    "  där $\\vec{x}_i$ är rums- och spinnkoordinaterna för partikel $i$ \\cite[s.~53]{Thijssen2007ComputationalPhysics}. Detta motiveras i sektion \\ref{sec:wave_fn_electron_orbitals}. Dessa teoretiska partiklar benämns \\emph{Kohn-Sham-partiklar}, och beter sig precis som vanliga elektroner med undantaget för växelverkan sinsemellan. För att Kohn-Sham-partiklarna ska bete sig likt elektroner införs en extra term i potentialen som approximativt kompenserar avsaknaden av växelverkan. "
   ]
  },
  {
   "cell_type": "markdown",
   "metadata": {},
   "source": [
    " * **Uttryck problemet i termer av elektrontäthet**:\n",
    "\n",
    " Att uttrycka problemet i termer av elektrontätheten $n(\\vec{r})$ förenklar problemet avsevärt, eftersom antalet \n",
    " koordinater reduceras från tre per elektron till totalt tre. Alla potentialer och energier kan uttryckas som \n",
    " funktional av elektrontätheten, och är enligt _Första Hohenberg-Kohn-teoremet_  ekvivalent med att uttrycka\n",
    " dem i termer av vågfunktioner.\\cite[s.~8]{Finocchi2011DensityApproaches}. Hur elektrontätheten beräknas\n",
    " från elektronernas vågfunktioner specificeras på sidan [Beräkning av elektrontäthet](electron-density.html). "
   ]
  },
  {
   "cell_type": "markdown",
   "metadata": {},
   "source": [
    "Utifrån dessa förenklingar kan Schrödingerekvationen för varje Kohn-Sham-partikel skrivas om som ett egenvärdesproblem som kallas _Kohn-Shams ekvation_\n",
    "\n",
    "$$\\begin{equation}\n",
    "    \\label{eq:kohn}\n",
    "    \\left[-\\frac{1}{2}\\nabla^2 + V_\\text{eff}(\\vec{r}) \\right] \\psi_i(\\vec{r}) = \\varepsilon_i \\psi_i(\\vec{r}),\n",
    "\\end{equation}$$\n",
    "\n",
    "där $\\varepsilon_i$ är energiegenvärden och $V_\\text{eff}$ den _effektiva potentialen_ som respektive Kohn-Sham-partikel upplever. Beräkningsalgoritmen, som kallas _Hartree–Fock-metoden_, bygger på att upprepade gånger lösa denna ekvation. Varje enskilt steg förklaras och motiveras i de nästkommande kapitlen. En visualisering av tillvägagångssättet visas i figuren nedan, och kan sammanfattas i 6 steg:\n",
    "\n",
    "<img src=\"../Assets/SCF_varm.svg\" alt=\"Drawing\" style=\"width:50%;\"/>\n",
    "\n",
    "1. Systemet diskretiseras i rummet och en inledande gissning av vågfunktionerna $\\psi_i^{(0)}$ ställs upp.\n",
    "\n",
    "2. [I varje punkt beräknas elektrontätheten](electron-density.html) $n(\\vec{r})^{(0)}$.\n",
    "\n",
    "3. Från den beräknade elektrontätheten $n(\\vec{r})^{(0)}$ [utvärderas den effektiva potentialen](energibidrag.html) $V_\\text{eff}$ \n",
    "   och [systemets totala energi](total-energy.html) $E[n]$.\n",
    "\n",
    "4. [Kohn-Shams ekvation](kohn-sham.html) löses med hjälp av $V_\\text{eff}$, vilket ger nya elektronorbitaler \n",
    "   $\\psi_i^{(1)}$.\n",
    "\n",
    "5. De nya elektronorbitalerna används i steg 2 för att hitta $n(\\vec{r})^{(1)}$ och den tillhörande \n",
    "   energin $E[n]$, och processen upprepas.\n",
    "\n",
    "6. Om skillnaden i total energi $E[n]$ mellan två iterationer är mindre än något bestämt \n",
    "   tröskelvärde stoppas programmet. Grundtillståndsenergin $E[n(\\vec{r})^{(\\text{final})}]$ \n",
    "   och grundtillståndselektronorbitalerna $\\psi_i^{(\\text{final})}$ är nu beräknade med \n",
    "   den önskade noggrannheten."
   ]
  },
  {
   "cell_type": "markdown",
   "metadata": {},
   "source": [
    "I denna notebook presenteras ett exempel på DFT implementerat i Python för att beräkna grundtillståndet för helium. Helium är ett flerelektronsystem som är sfäriskt symmetriskt, vilket förenklar implementationen. "
   ]
  },
  {
   "cell_type": "markdown",
   "metadata": {},
   "source": [
    "Notebooken innehåller följande artiklar\n",
    " * [Teoriavsnitt om energibidrag och uppdelning av effektiva potentialen](energibidrag.html)\n",
    "     * [Uträkning av externt potentialbidrag](Extern\\ potential.html)\n",
    "     * [Uträkning av Hartreepotential](hartreepotential.html)\n",
    "     * [Uträkning av exchange correlation-bidrag med LDA](exchange-correlation.html)\n",
    " * [Lösning av Kohn-Shams ekvation med effektiv potential](kohn-sham.html)\n",
    " * [Uträkning av total energi för systemet](total-energy.html)"
   ]
  },
  {
   "cell_type": "markdown",
   "metadata": {},
   "source": [
    "Efter att ha gjort en implementation i Python har följande main-loop konstruerats. "
   ]
  },
  {
   "cell_type": "code",
   "execution_count": null,
   "metadata": {},
   "outputs": [],
   "source": [
    "import numpy as np\n",
    "import matplotlib.pyplot as plt\n",
    "from components.tests import (\n",
    "    test_helium, test_helium_x, test_helium_xc, test_helium_xc_Vosko\n",
    ")\n",
    "from components.misc import get_n\n",
    "\n",
    "## Command line arguments\n",
    "arg_verbose = False\n",
    "arg_plot = False\n",
    "\n",
    "## r = radius in spherical coordinates\n",
    "r_max = 15\n",
    "r_step = 0.015\n",
    "rr = np.arange(0, r_max, r_step)\n",
    "\n",
    "## Start with wave function for hydrogen\n",
    "psi_start = 1 / np.sqrt(np.pi) * np.exp(-rr)\n",
    "\n",
    "## Conditions for exiting the program\n",
    "tolerance = 1e-7\n",
    "max_iterations = 99\n",
    "\n",
    "\n",
    "def main(args):\n",
    "    ## Parse command line arguments\n",
    "    global arg_verbose\n",
    "    global arg_plot\n",
    "    for arg in args[1:]:\n",
    "        if arg == \"-v\" or arg == \"verbose\" or arg == \"--verbose\":\n",
    "            arg_verbose = True\n",
    "        if arg == \"-p\" or arg == \"plot\" or arg == \"--plot\":\n",
    "            arg_plot = True\n",
    "\n",
    "    ## Calculate energies and wave functions\n",
    "    psi, E = test_helium(rr, psi_start, tolerance, max_iterations, arg_verbose)\n",
    "    print(\"E =\", E)\n",
    "    print()\n",
    "    psi_x, E_x = test_helium_x(\n",
    "        rr, psi_start, tolerance, max_iterations, arg_verbose\n",
    "    )\n",
    "    print(\"E_x =\", E_x)\n",
    "    print()\n",
    "    psi_xc, E_xc = test_helium_xc(\n",
    "        rr, psi_start, tolerance, max_iterations, arg_verbose\n",
    "    )\n",
    "    print(\"E_xc_Perdew =\", E_xc)\n",
    "    print()\n",
    "    psi_xc_Vosko, E_xc_Vosko = test_helium_xc_Vosko(\n",
    "        rr, psi_start, tolerance, max_iterations, arg_verbose\n",
    "    )\n",
    "    print(\"E_xc_vosko =\", E_xc)\n",
    "    print()\n",
    "\n",
    "    ## Plot\n",
    "    if arg_plot:\n",
    "        ## Calculate electron densities\n",
    "        n = get_n(psi)\n",
    "        n_x = get_n(psi_x)\n",
    "        n_xc = get_n(psi_xc)\n",
    "        n_xc_Vosko = get_n(psi_xc_Vosko)\n",
    "\n",
    "        ## Plot electron densities\n",
    "        plt.plot(rr[1:], n[1:], label='No XC')\n",
    "        plt.plot(rr[1:], n_x[1:], label='X')\n",
    "        plt.plot(rr[1:], n_xc[1:], label='XC-Perdew')\n",
    "        plt.plot(rr[1:], n_xc_Vosko[1:], label='XC-Vosko')\n",
    "\n",
    "        ## Plot settings\n",
    "        xmin = 0\n",
    "        xmax = 2\n",
    "        ymin = 0\n",
    "        ymax = n[1] + 0.2\n",
    "        plt.axis([xmin, xmax, ymin, ymax])\n",
    "        plt.grid()\n",
    "        plt.xlabel(\"Distance from nucleus [$a_0$]\", fontsize='x-large')\n",
    "        plt.ylabel(\"Electron density [$a_0^{-3}$]\", fontsize='x-large')\n",
    "        plt.xticks(fontsize='large')\n",
    "        plt.yticks(fontsize='large')\n",
    "        plt.legend(loc='upper right', shadow=False, fontsize='x-large')\n",
    "\n",
    "        ## Display the plot\n",
    "        plt.show()\n",
    "    return 0\n",
    "\n",
    "\n",
    "if __name__ == \"__main__\":\n",
    "    import sys\n",
    "\n",
    "    sys.exit(main(sys.argv))"
   ]
  },
  {
   "cell_type": "markdown",
   "metadata": {},
   "source": [
    "Programmet möjliggjorde undersökning av heliums grundtillståndsenergi uträknat med respektive utan LDA. I tabellen nedan presenteras beräknad totala energi för några iterationssteg för de två implementationerna"
   ]
  },
  {
   "cell_type": "markdown",
   "metadata": {},
   "source": [
    "| Iterationsnummer | 1     | 2     | 3     | ... | 7     | ... | 13    |\n",
    "|------------------|-------|-------|-------|-----|-------|-----|-------|\n",
    "| Med LDA [Ha]     | -3,40 | -2,52 | -2,87 | ... | -2.75 | ... | -2.75 |\n",
    "| Utan LDA [Ha]    | -3.18 | -2,78 | -2,88 | ... | -2,86 | ... | -2,86 |"
   ]
  },
  {
   "cell_type": "markdown",
   "metadata": {},
   "source": [
    "Exmperimentellt har man visat att heliums grundtillståndsenergi är -2,9 Ha. Från tabellen framgår det att LDA är en dålig uppskattning av exchange correlation-bidragen till heliums grundtillståndsenergi. Detta beror troligtvis på att elektronmolnet i helium inte kan approximeras som en homogen elektrongas. Vidare ger LDA upphov till __självinteraktionsfel__, vilket innebär att elektronerna uppskattas interagera med sig själva. Självinteraktionen beror på att LDA enbart tar hänsyn till elektrontätheten $n$. Exempelvis erhålles nollskillda  $n$ och $E_\\text{xc}$ i enelektronsystem med LDA.\n",
    "\n",
    "LDA användes för den enkla implementationen eftersom metoden är förhållandevis simpel att förklara och tillämpa. Bristerna hos LDA är kända och resultaten som erhölls är därför inte förvånande."
   ]
  },
  {
   "cell_type": "code",
   "execution_count": null,
   "metadata": {},
   "outputs": [],
   "source": []
  }
 ],
 "metadata": {
  "kernelspec": {
   "display_name": "Python 3",
   "language": "python",
   "name": "python3"
  },
  "language_info": {
   "codemirror_mode": {
    "name": "ipython",
    "version": 3
   },
   "file_extension": ".py",
   "mimetype": "text/x-python",
   "name": "python",
   "nbconvert_exporter": "python",
   "pygments_lexer": "ipython3",
   "version": "3.6.5"
  }
 },
 "nbformat": 4,
 "nbformat_minor": 2
}
