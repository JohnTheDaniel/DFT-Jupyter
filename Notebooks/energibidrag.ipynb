{
 "cells": [
  {
   "cell_type": "markdown",
   "metadata": {
    "slideshow": {
     "slide_type": "slide"
    }
   },
   "source": [
    "# De olika energibidragen och jakten på den effektiva potentialen\n",
    "\n",
    "## Bakgrund\n",
    "\n",
    "Enligt det första Hohenberg-Kohn-teoremet ska det vara möjligt att beräkna systemets energi som en funktional av elektrontäthteten $n(\\vec{r})$. Den totala energin för systemet betecknas $E[n]$. Energibidragen kan delas upp i följande delar:"
   ]
  },
  {
   "cell_type": "markdown",
   "metadata": {
    "slideshow": {
     "slide_type": "slide"
    }
   },
   "source": [
    " * **Kinetisk energi hos elektroner** $T[n]$:\n",
    " \n",
    "   Varje elektron har en hastighet och därmed en kinetisk energi. Denna beräknas enligt $\\int \\psi_i^* \\left(-\\frac{1}{2}\\nabla^2 \\right)\\psi_i$, där asterisk ($*$) betecknar komplexkonjugat."
   ]
  },
  {
   "cell_type": "markdown",
   "metadata": {
    "slideshow": {
     "slide_type": "slide"
    }
   },
   "source": [
    " * **Coulombpotential mellan en elektron och närliggande atomkärnor:** $V[n, v_\\text{ext}]$\n",
    " \n",
    "     Elektroner och atomkärnan har motsatt elektrisk laddning och attraherar därför varandra. Detta ger\n",
    "     upphov till ett energibidrag som är en funktional av både elektrontätheten $n(\\vec{r})$ och\n",
    "     Coulombpotentialen $v_\\text{ext}(\\vec{r})$ av atomkärnan."
   ]
  },
  {
   "cell_type": "markdown",
   "metadata": {
    "slideshow": {
     "slide_type": "slide"
    }
   },
   "source": [
    " * **Coulombbidrag mellan elektroner**: $E_\\text{H}[n]$\n",
    " \n",
    " Elektronerna är negativt laddade partiklar och repellerar därför varandra. Detta energibidrag är svårt att beräkna exakt och approximeras av $E_\\text{H}[n]$, och kallas _Hartree-energin_."
   ]
  },
  {
   "cell_type": "markdown",
   "metadata": {
    "slideshow": {
     "slide_type": "slide"
    }
   },
   "source": [
    "* **Kvantmekaniska bidrag, exchange-korrelation**: $E_\\text{xc}[n]$\n",
    "\n",
    "   Detta bidrag är okänt och inkluderas för att göra uttrycket för energin exakt, men brukar approximeras på olika sätt beroende på modell. Termen innefattar kvantmekaniska effekter, eftersom elektroner interagerar på sätt som inte tas hänsyn till i klassiska modeller."
   ]
  },
  {
   "cell_type": "markdown",
   "metadata": {
    "slideshow": {
     "slide_type": "slide"
    }
   },
   "source": [
    "Den totala energin i systemet är alltså\n",
    "\n",
    "$$\\begin{equation*}\n",
    "    \\label{eq:E[n]vext}\n",
    "    E[n] = T[n] + V[n, v_\\text{ext}] + E_\\text{H}[n] +  E_\\text{xc}[n]\\mathrm{,}\n",
    "\\end{equation*}$$\n",
    "\n",
    "vilket är ett exakt uttryck för den totala energin uttryckt i elektrontätheten $n$. "
   ]
  },
  {
   "cell_type": "markdown",
   "metadata": {},
   "source": [
    "I täthetsfunktionalteori ses elektronerna som icke-interagerande Kohn-Sham-partiklar. För att kompensera för avsaknaden av växelverkan ansätts en effektiv potential $V_\\text{eff}$, som inkluderar $E_\\text{H}[n]$ och $E_\\text{xc}[n]$. För den icke-växelverkande partikeln blir energibidraget från den effektiva potentialen\n",
    "\n",
    "<script type=\"text/x-mathjax-config\">\n",
    "MathJax.Hub.Config({\n",
    "  TeX: { equationNumbers: { autoNumber: \"AMS\" } }\n",
    "});\n",
    "</script>\n",
    "\n",
    "$$\\begin{equation}\n",
    "    \\label{eq:Vveff_total}\n",
    "    V[n, V_\\text{eff}] = V[n, v_\\text{ext}] + 2 E_\\text{H}[n] + E_\\text{xc}[n].\n",
    "\\end{equation}$$\n",
    "\n",
    "där energibidraget beräknas med funktionalen\n",
    "\n",
    "$$\\begin{equation*}\n",
    "    V[n, V_\\text{eff}] = \\int n(\\vec{r}) V_\\text{eff}(\\vec{r})dV\n",
    "\\end{equation*}$$\n",
    "\n",
    "Den sökta effektiva potentialen för varje elektronorbital hittas genom att funktionalderivera $V[n, V_\\text{eff}]$ med avseende på $n$. Med ekvation (\\ref{eq:Vveff_total}) erhålls\n",
    "\n",
    "$$\\begin{equation*}\n",
    "    \\frac{\\delta V[n, V_\\text{eff}]}{\\delta n} =\n",
    "    V_\\text{eff}(\\vec{r}) = \\frac{\\delta V[n, v_\\text{ext}]}{\\delta n} + 2 \\frac{\\delta E_\\text{H}[n]}{\\delta n} + \\frac{\\delta E_\\text{xc}[n]}{\\delta n} ,\n",
    "\\end{equation*}$$\n",
    "            \n",
    "vilket ger\n",
    "\n",
    "$$\\begin{equation*}\n",
    "    \\label{eq:veff}\n",
    "    V_\\text{eff}(\\vec{r}) =  v_\\text{ext}(\\vec{r}) + V_\\text{H}(\\vec{r}) + V_\\text{xc}(\\vec{r}),\n",
    "\\end{equation*}$$\n",
    "\n",
    "där varje term beräknas var för sig. Här är $v_\\text{ext}$ den _externa potentialen_ från atomkärnan och närliggande kärnor, $V_\\text{H}$ kallas _Hartreepotentialen_ och beror på coulombkrafter mellan elektroner, och $V_\\text{xc}$ kallas _Exchange-Korrelationpotentialen_ och beror på andra typer av elektronväxelverkan."
   ]
  },
  {
   "cell_type": "markdown",
   "metadata": {},
   "source": [
    "Exempel på beräkning av potentialerna för helium hittas på sidorna:\n",
    "\n",
    " * $v_\\text{ext}(\\vec{r})$: [Beräkning av extern potential](Extern-potential.html)\n",
    " * $V_\\text{H}(\\vec{r})$: [Beräkning av Hartreepotential](hartreepotential.html)\n",
    " * $V_\\text{xc}(\\vec{r})$: [Uträkning av exchange-korrelation-potentialen med LDA](exchange-correlation.html)"
   ]
  },
  {
   "cell_type": "markdown",
   "metadata": {},
   "source": [
    "Tillbaka till [förstasidan](index.html). "
   ]
  }
 ],
 "metadata": {
  "kernelspec": {
   "display_name": "Python 3",
   "language": "python",
   "name": "python3"
  },
  "language_info": {
   "codemirror_mode": {
    "name": "ipython",
    "version": 3
   },
   "file_extension": ".py",
   "mimetype": "text/x-python",
   "name": "python",
   "nbconvert_exporter": "python",
   "pygments_lexer": "ipython3",
   "version": "3.6.5"
  }
 },
 "nbformat": 4,
 "nbformat_minor": 2
}
