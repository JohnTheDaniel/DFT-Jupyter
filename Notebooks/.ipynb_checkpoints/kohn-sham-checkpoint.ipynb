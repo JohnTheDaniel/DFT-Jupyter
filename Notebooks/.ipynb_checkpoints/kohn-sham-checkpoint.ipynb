{
 "cells": [
  {
   "cell_type": "markdown",
   "metadata": {},
   "source": [
    "<script type=\"text/x-mathjax-config\">\n",
    "MathJax.Hub.Config({\n",
    "  TeX: { equationNumbers: { autoNumber: \"AMS\" } }\n",
    "});\n",
    "</script>\n",
    "# Kohn-Shams ekvation"
   ]
  },
  {
   "cell_type": "markdown",
   "metadata": {},
   "source": [
    "Som nämnts är målet med täthetsfunktionalteori att hitta grundtillståndet till ett flerpartikelsystem. Kohn-Shams ekvation är ett egenvärdesproblem som minimerar energin i systemet."
   ]
  },
  {
   "cell_type": "markdown",
   "metadata": {},
   "source": [
    "## Bakomliggande teori"
   ]
  },
  {
   "cell_type": "markdown",
   "metadata": {},
   "source": [
    "Uttrycket för $E[n]$ beskriver den totala energin för systemet, men är inte nödvändigtvis grundtillståndsenergin. Om systemets totala vågfunktion är $\\Psi$ och systemets motsvarande grundtillstånd är $\\Psi_0$, gäller det alltid att:\n",
    "\n",
    "\\begin{equation*}\n",
    "    E = \\langle\\Psi|\\hat{H}|\\Psi\\rangle \\geq \\langle\\Psi_0|\\hat{H}|\\Psi_0\\rangle = E_0,\n",
    "\\end{equation*}\n",
    "            \n",
    "där $E_0$ är grundtillståndsenergin och $\\hat{H}$ är Hamiltonoperatorn. Detta kallas \\emph{variationsprincipen}, och innebär att om $E$ minimeras med avseende på $n$ erhålls grundtillståndsenergin. Energin $E$ måste minimeras under villkoret att $\\Psi$ är normerbar, dvs $\\int n(\\vec{r})dV = N$. Dessutom måste totala antalet elektroner $N$ vara konstant.\n",
    "            \n",
    "För att minimera funktionalen under villkoret $\\int n(\\vec{r}) dV = N$ används \\emph{Lagrangemultiplikatorer}. Målet är hitta extremvärdet till uttrycket\n",
    "\n",
    "\\begin{equation*}\n",
    "    E[n] - \\mu \\int n(\\vec{r}) dV,\n",
    "\\end{equation*}\n",
    "\n",
    "där $\\mu$ är Lagrangemultiplikatorn. \n",
    "Analogt med hur extremvärden till funktioner hittas med derivata, hittas extremvärden till funktionalen $E[n]$ med funktionalderivata:\n",
    "\n",
    "\\begin{equation}\n",
    "    \\label{eq:extreme_functional_derivative_density}\n",
    "    \\frac{\\delta}{\\delta n} \\left( E[n] - \\mu \\int n(\\vec{r}) dV     \\right) = 0.\n",
    "\\end{equation}\n",
    "\n",
    "Med definitionen av [elektrontäthet](electron-density.html) och en uppsättning konstanter $\\varepsilon_i$ så att $\\sum \\varepsilon_i = \\mu$ blir ekvation $\\eqref{eq:extreme_functional_derivative_density}$:\n",
    "\n",
    "\\begin{equation}\n",
    "    \\label{eq:anpassade_konstanter}\n",
    "    \\frac{\\delta}{\\delta n} \\left( E[n] - \\sum^N_{i = 1} \\int \\varepsilon_i |\\psi_i|^2 dV \\right) = 0.\n",
    "\\end{equation}\n",
    "\n",
    "Det går att visa att lösningarna till denna ekvation ges av egenvärdesproblemet Kohn-Shams ekvation\n",
    "\n",
    "\\begin{equation}\n",
    "    \\label{eq:kohn}\n",
    "    \\left[-\\frac{1}{2}\\nabla^2 + V_\\text{eff}(\\vec{r}) \\right] \\psi_i(\\vec{r}) = \\varepsilon_i \\psi_i(\\vec{r}),\n",
    "\\end{equation}\n",
    "\n",
    "som är Schrödingers ekvation för varje elektronorbital. Här betecknar $V_\\text{eff}$ den [effektiva potentialen](energibidrag.html) som partikeln upplever. På detta sätt har problemet reducerats till ett antal enpartikelproblem.\n",
    "\n",
    "Notera att energiegenvärdena $\\varepsilon_i$ i Kohn-Shams ekvation $\\eqref{eq:kohn}$ är samma som de anpassade konstanterna i ekvation $\\eqref{eq:anpassade_konstanter}$. Vid lösning av Kohn-Shams ekvation erhålls dessa energiegenvärden, vardera med en tillhörande egenvektor. Egenvektorn med lägst tillhörande energi ansätts som nya elektronorbitaler $\\psi_i(\\vec{r})$ i nästa iteration av beräkningsalgoritmen. På detta sätt minimeras energin successivt."
   ]
  },
  {
   "cell_type": "markdown",
   "metadata": {},
   "source": [
    "## Implementation i kod"
   ]
  },
  {
   "cell_type": "markdown",
   "metadata": {},
   "source": [
    "Kohn-Shams ekvation $\\eqref{eq:kohn}$ är ett egenvärdesproblem på formen\n",
    "\n",
    "\\begin{equation}\n",
    "    Au  = \\varepsilon u\n",
    "\\end{equation}\n",
    "\n",
    "där $A = \\left[-\\frac{1}{2}\\nabla^2 + V_\\text{eff}(\\vec{r}) \\right]$, $u = \\sqrt{4\\pi} r \\psi$ är egenvektorerna och $\\varepsilon$ är energiegenvärdena. Ekvationen kan lösas med funktionen `linalg.eig()` som ingår i Numpy.\n",
    "\n",
    "Det stora problemet är hur matrisen $A$ ställs upp. Den första termen $-\\frac{1}{2}\\nabla^2$ är laplaceoperatorn verkande på vågfunktionen. Eftersom problemet är diskret så måste derivatorna i varje punkt approximeras med differenskvoter\n",
    "\n",
    "\\begin{equation}\n",
    "    u'(r_i) = \\frac{u_{i+1} - u_{i-1}}{2h}\n",
    "\\end{equation}\n",
    "\n",
    "\\begin{equation}\n",
    "    u''(r_i) = \\frac{u_{i+1} - 2u_i + u_{i-1}}{h^2}\n",
    "\\end{equation}\n",
    "\n",
    "vilket kan skrivas på matrisform enligt\n",
    "\n",
    "$$\\begin{equation}\n",
    "    \\left[ \\begin{array} \\\\\n",
    "        u''(r_1) \\\\\n",
    "        u''(r_2) \\\\\n",
    "        u''(r_3) \\\\\n",
    "        \\vdots \\\\\n",
    "        u''(r_\\text{m-1}) \\\\\n",
    "        u''(r_\\text{m})\n",
    "    \\end{array} \\right] = \\frac{1}{h^2} \\begin{bmatrix}\n",
    "        2 & -1 & 0 & 0 & \\dots & 0 \\\\\n",
    "        -1 & 2 & -1 & 0 & \\dots & 0 \\\\\n",
    "        0 & -1 & 2 & -1 & \\dots & 0 \\\\\n",
    "        \\vdots & \\vdots & \\ddots & \\ddots & \\ddots & \\vdots \\\\\n",
    "        0 & \\dots & 0 & -1 & 2 & -1 \\\\\n",
    "        0 & \\dots & 0 & 0 & -1 & 2\n",
    "        \\end{bmatrix} \\cdot \\left[ \\begin{array} \\\\\n",
    "        u(r_1) \\\\\n",
    "        u(r_2) \\\\\n",
    "        u(r_3) \\\\\n",
    "        \\vdots \\\\\n",
    "        u(r_\\text{m-1}) \\\\\n",
    "        u(r_\\text{m})\n",
    "    \\end{array} \\right]\n",
    "\\end{equation}$$\n",
    "\n",
    "där $h$ är avståndet mellan punkterna. Detta ger:\n",
    "\n",
    "$$\\begin{equation}\n",
    "    -\\frac{1}{2}\\nabla^2 = -\\frac{1}{2h^2} \\begin{bmatrix}\n",
    "        2 & -1 & 0 & 0 & \\dots & 0 \\\\\n",
    "        -1 & 2 & -1 & 0 & \\dots & 0 \\\\\n",
    "        0 & -1 & 2 & -1 & \\dots & 0 \\\\\n",
    "        \\vdots & \\vdots & \\ddots & \\ddots & \\ddots & \\vdots \\\\\n",
    "        0 & \\dots & 0 & -1 & 2 & -1 \\\\\n",
    "        0 & \\dots & 0 & 0 & -1 & 2\n",
    "        \\end{bmatrix}\n",
    "\\end{equation}$$\n",
    "\n",
    "Den effektiva potentialen $V_\\text{eff}(\\vec{r})$ än en summa av bidragen från den externa potentialen $v_\\text{ext}$, hartreepotentialen $V_\\text{H}$ och exchange-korrelationspotentialen $V_{xc}$:\n",
    "\n",
    "\\begin{equation}\n",
    "    V_\\text{eff}(\\vec{r}) =  v_\\text{ext}(\\vec{r}) + V_\\text{}H(\\vec{r}) + V_\\text{xc}(\\vec{r})\n",
    "\\end{equation}\n",
    "\n",
    "Matrisen $A$ kan nu beräknas enligt:"
   ]
  },
  {
   "cell_type": "code",
   "execution_count": null,
   "metadata": {},
   "outputs": [],
   "source": [
    "h = rr[1] - rr[0]  # step size\n",
    "N = len(rr) - 2  # number of points\n",
    "\n",
    "## Add laplace operator term to A\n",
    "A = np.diagflat(np.ones(N)) / h ** 2\n",
    "A += -1 / 2 * np.diagflat(np.ones(N - 1), 1) / h ** 2\n",
    "A += -1 / 2 * np.diagflat(np.ones(N - 1), -1) / h ** 2\n",
    "\n",
    "## Add effective potential to A\n",
    "A += -np.diagflat(Z / rr[1:-1])\n",
    "A += np.diagflat(V_H[1:-1])\n",
    "A += np.diagflat(V_xc[1:-1])"
   ]
  },
  {
   "cell_type": "markdown",
   "metadata": {},
   "source": [
    "Därefter löses egenvärdesproblemet. Vid lösning av Kohn-Shams ekvation erhålls ett antal energiegenvärden $\\varepsilon_i$, vardera med en tillhörande egenvektor. Egenvektorn med lägst tillhörande energiegenvärde ansätts som ny $u$-vektor i nästa iteration av beräkningsalgoritmen. Randvärdena $u(r_0) = u(r_\\text{m}) = 0$ läggs till."
   ]
  },
  {
   "cell_type": "code",
   "execution_count": null,
   "metadata": {},
   "outputs": [],
   "source": [
    "eigvals, eigvecs = np.linalg.eig(KS)\n",
    "u = eigvecs[:, np.argmin(eigvals)]\n",
    "u = np.concatenate(([0], u, [0]))"
   ]
  },
  {
   "cell_type": "markdown",
   "metadata": {},
   "source": [
    "En ny vågfunktion $\\psi = \\frac{u}{\\sqrt{4\\pi} r}$ beräknas, med interpolering i $r = 0$: "
   ]
  },
  {
   "cell_type": "code",
   "execution_count": null,
   "metadata": {},
   "outputs": [],
   "source": [
    "psi = np.concatenate(\n",
    "        ([u[1] / (1 - h * Z)], u[1:] / (np.sqrt(4 * np.pi) * rr[1:]))\n",
    "    )"
   ]
  },
  {
   "cell_type": "markdown",
   "metadata": {},
   "source": [
    "Den totala funktionen blir:"
   ]
  },
  {
   "cell_type": "code",
   "execution_count": null,
   "metadata": {},
   "outputs": [],
   "source": [
    "import numpy as np\n",
    "import scipy.integrate\n",
    "\n",
    "def solve_ks(rr, Z, V_H=None, V_xc=None):\n",
    "    ## Position array properties\n",
    "    h = rr[1] - rr[0]  # step size\n",
    "    N = len(rr) - 2  # number of points\n",
    "\n",
    "    ## Add laplace operator term to A\n",
    "    A = np.diagflat(np.ones(N)) / h ** 2\n",
    "    A += -1 / 2 * np.diagflat(np.ones(N - 1), 1) / h ** 2\n",
    "    A += -1 / 2 * np.diagflat(np.ones(N - 1), -1) / h ** 2\n",
    "\n",
    "    ## Add effective potential to A\n",
    "    A += -np.diagflat(Z / rr[1:-1])\n",
    "    if V_H is not None:\n",
    "        A += np.diagflat(V_H[1:-1])\n",
    "    if V_xc is not None:\n",
    "        A += np.diagflat(V_xc[1:-1])\n",
    "    \n",
    "    ## Solve the eigenvalue problem\n",
    "    eigvals, eigvecs = np.linalg.eig(KS)\n",
    "    \n",
    "    ## Set u equal to the eigvec with lowest corresponding eigval\n",
    "    u = eigvecs[:, np.argmin(eigvals)]\n",
    "    \n",
    "    ## Add boundary points and normalize\n",
    "    u = np.concatenate(([0], u, [0]))\n",
    "    u /= np.sqrt(scipy.integrate.simps(u ** 2, rr))\n",
    "    \n",
    "    ## Calculate wave function\n",
    "    psi = np.concatenate(\n",
    "        ([u[1] / (1 - h * Z)], u[1:] / (np.sqrt(4 * np.pi) * rr[1:]))\n",
    "    )\n",
    "    E = calc_energy(rr, u, psi, np.min(eigvals), Z, V_H, V_xc)\n",
    "    return (E, psi)"
   ]
  },
  {
   "cell_type": "markdown",
   "metadata": {},
   "source": [
    "Funktionen tar in den effektiva potentialen om skickar ut nya elektronorbitaler med tillhörande energi."
   ]
  }
 ],
 "metadata": {
  "kernelspec": {
   "display_name": "Python 3",
   "language": "python",
   "name": "python3"
  },
  "language_info": {
   "codemirror_mode": {
    "name": "ipython",
    "version": 3
   },
   "file_extension": ".py",
   "mimetype": "text/x-python",
   "name": "python",
   "nbconvert_exporter": "python",
   "pygments_lexer": "ipython3",
   "version": "3.6.5"
  }
 },
 "nbformat": 4,
 "nbformat_minor": 2
}
