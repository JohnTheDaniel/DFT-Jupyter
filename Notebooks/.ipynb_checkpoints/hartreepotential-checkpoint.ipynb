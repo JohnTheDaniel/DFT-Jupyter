{
 "cells": [
  {
   "cell_type": "markdown",
   "metadata": {},
   "source": [
    "# Uträkning av hartreepotential"
   ]
  },
  {
   "cell_type": "markdown",
   "metadata": {},
   "source": [
    "<img src=\"../Assets/hartree.svg\" alt=\"Drawing\" style=\"width:50%;\"/>\n",
    "\n",
    "<script type=\"text/x-mathjax-config\">\n",
    "MathJax.Hub.Config({\n",
    "  TeX: { equationNumbers: { autoNumber: \"AMS\" } }\n",
    "});\n",
    "</script>\n",
    "\n",
    "För att beräkna Hartreepotentialen $V_\\text{H}$ undersöks först Hartree-energin $E_\\text{H}[n]$, som uppkommer av Coloumbkrafterna mellan elektronerna i atomen. Bidraget approximeras genom att summera energin som krävs för att föra två klassiska punktladdningar nära varandra:\n",
    "\n",
    "\\begin{equation*}\n",
    "                    dE_\\text{H} = \\frac{1}{4\\pi \\epsilon_0}\\frac{q'\\cdot q}{|\\vec{r}' - \\vec{r}|}=\\frac{e^2}{4\\pi \\epsilon_0}\\frac{n(\\vec{r}')dV' \\cdot n(\\vec{r})dV}{|\\vec{r}' - \\vec{r}|} \\Rightarrow E_\\text{H}[n] = \\frac{1}{2} \\iint \\frac{n(\\vec{r}')n(\\vec{r})}{|\\vec{r}' - \\vec{r}|} dV' dV\n",
    "\\end{equation*}\n",
    "\n",
    "Efter summering av den totala energin har en faktor $\\frac{1}{2}$ introducerats. Detta beror på att när energin summeras beräknas bidragen dubbelt, när $\\vec{r}$ och $\\vec{r}'$ byter plats. \n",
    "\n",
    "där $dV$ är ett litet volymelement och $e^2/4\\pi\\epsilon_0 = 1$ i atomära enheter. Hartreepotentialen blir\n",
    "\n",
    "\\begin{equation}\n",
    "\\label{V_H}\n",
    "V_\\text{H}(\\vec{r}) = 2 \\cdot \\frac{\\delta E_\\text{H}[n]}{\\delta n} = \\int \\frac{n(\\vec{r})}{|\\vec{r}' - \\vec{r}|} dV\n",
    "\\end{equation}\n",
    "                \n",
    "I denna uträkning har laddningarna i rummet approximerats till klassiska partiklar och kvantmekaniska bidrag tas därför inte i hänsyn -- dessa är inkluderade i exchange-korrelationpotentialen $V_\\text{xc}$."
   ]
  },
  {
   "cell_type": "markdown",
   "metadata": {},
   "source": [
    "# Implementation\n",
    "\n",
    "Uttrycket (\\ref{V_H}) är lösningen till Poissons ekvation, det vill säga\n",
    "\n",
    "$$\\begin{equation}\n",
    "\\label{poisson}\n",
    "\\nabla^2V_\\text{H}(\\vec{r}) = -4\\pi n(\\vec{r}).\n",
    "\\end{equation}$$\n",
    "\n",
    "Detta görs för hela systemet. För att göra detta lite enklare undersöks spinnen var för sig genom att introducera nya funktioner \n",
    "\n",
    "$$\n",
    "2 V_\\text{sH}(\\vec{r}) = V_\\text{H}(\\vec{r})\n",
    "$$\n",
    "\n",
    "och \n",
    "\n",
    "$$\n",
    "2 n_\\text{s}(\\vec{r}) = n(\\vec{r}) \n",
    "$$\n",
    "\n",
    "där s betecknar \"spinn\", alltså tätheten och hartree potential för elektroner med samma spinn.\n",
    "\n",
    "I polära koordinater är detta problemet krångligt, men ett variabel kan göras, delvis för att erhålla lätthanterliga randvillkor samt för att göra problemet lämpligt i polära koordinater. Vidare är problemet rotationssymmetriskt, villket innebär att $n_\\text{s}(\\vec{r}) = n_\\text{s}(r)$ och $V_\\text{sH}(\\vec{r}) = V_\\text{sH}(r)$. \n",
    "\n",
    "Med följande koordinatbyten\n",
    "\n",
    "$$\n",
    "U(r) = rV_\\text{sH}(r) - \\frac{r}{r_\\text{max}}\n",
    "$$\n",
    "\n",
    "och\n",
    "\n",
    "$$\\begin{equation}\n",
    "\\label{u_replace}\n",
    "\\sqrt{4 \\pi n_\\text{s}(r)} r = u(r) % \\Rightarrow \\int n_\\text{s}(\\vec{r}) dV = \\iiint n_\\text{s}(r) r^2 \\sin(\\theta) dr d\\theta d\\varphi = \\int u(r) dr\n",
    "\\end{equation}$$\n",
    "\n",
    "blir Poissons ekvation (\\ref{poisson}) på formen\n",
    "\n",
    "$$\\begin{equation}\n",
    "\\label{problem}\n",
    "\\frac{d^2}{dr^2}U(r) = -\\frac{u^2(r)}{r}\n",
    "\\end{equation}$$\n",
    "\n",
    "Variabelbytena innebär att $u(0) = 0$ och att $n(r_\\text{max}) = 0 \\Rightarrow \\lim_{r\\rightarrow\\infty}u(r) = 0$, eftersom $n(r)$ är normerbar. Vidare är $U(0) = 0$ och $U(r_\\text{max}) = 0$ \\cite{comphys}. \n",
    "\n",
    "Problemet i ekvation (\\ref{problem}) kan lösas som ett matrisproblem i ett diskretiserat rum. Genom liknande diskretisering som i avsnitt kan man ersätta andraderivatan med en matris.\n",
    "\n",
    "$$\\begin{equation*}\n",
    "    \\frac{d^2}{dr^2} = \\frac{1}{h^2} \\begin{bmatrix}\n",
    "        2 & -1 & 0 & 0 & \\dots & 0 \\\\\n",
    "        -1 & 2 & -1 & 0 & \\dots & 0 \\\\\n",
    "        0 & -1 & 2 & -1 & \\dots & 0 \\\\\n",
    "        \\vdots & \\vdots & \\ddots & \\ddots & \\ddots & \\vdots \\\\\n",
    "        0 & \\dots & 0 & -1 & 2 & -1 \\\\\n",
    "        0 & \\dots & 0 & 0 & -1 & 2\n",
    "        \\end{bmatrix}\n",
    "\\end{equation*}$$\n",
    "\n",
    "detta görs med funktionen `get_gradient_matrix` som ligger i `components.gradient`. Implentationen blir"
   ]
  },
  {
   "cell_type": "code",
   "execution_count": 1,
   "metadata": {},
   "outputs": [],
   "source": [
    "from components.gradient import get_gradient_matrix\n",
    "import numpy as np\n",
    "\n",
    "def get_VH(r, n):\n",
    "    # Matrix for second derivative\n",
    "    ddr2 = get_gradient_matrix(r) \n",
    "    \n",
    "    # Get u from density n\n",
    "    u = np.sqrt(4 * np.pi * n)*r\n",
    "    \n",
    "    # Solve the poisson problem\n",
    "    U = np.linalg.solve(ddr2, -u[1:-1]**2/r[1:-1])\n",
    "    \n",
    "    ## Add boundary points\n",
    "    U = np.concatenate(([0], U, [0]))\n",
    "\n",
    "    ## Calculate one electron hartree potential\n",
    "    U = U + r / r[-1]\n",
    "    \n",
    "    # Avoid dividing by zero (r[0] = 0)\n",
    "    V_sH = U[1:] / r[1:]\n",
    "    \n",
    "    # Interpolate to get the first point of Hartree potential\n",
    "    V_sH = np.concatenate(([1], V_sH))\n",
    "    return 2 * V_sH"
   ]
  },
  {
   "cell_type": "markdown",
   "metadata": {},
   "source": [
    "Vi undersöker hur Hartreepotentialen ser ut med $n$ med intiala gissningen."
   ]
  },
  {
   "cell_type": "code",
   "execution_count": 2,
   "metadata": {},
   "outputs": [
    {
     "data": {
      "image/png": "[encoded data removed]",
      "text/plain": [
       "<matplotlib.figure.Figure at 0x10b3f7f98>"
      ]
     },
     "metadata": {},
     "output_type": "display_data"
    }
   ],
   "source": [
    "%matplotlib inline\n",
    "import matplotlib.pyplot as plt\n",
    "import scipy.integrate\n",
    "\n",
    "r_max = 15\n",
    "r_step = 0.015\n",
    "r = np.arange(0, r_max, r_step)\n",
    "\n",
    "# Initial gissning av densitet\n",
    "phi = 1 / np.sqrt(np.pi) * np.exp(-r)\n",
    "n = phi**2\n",
    "\n",
    "# Plot av densiteten\n",
    "plt.plot(r,n)\n",
    "plt.xlabel(\"r [$a_0$]\")\n",
    "plt.ylabel(\"n [$a_0^{-3}$]\")\n",
    "plt.title(\"Initial electron density\")\n",
    "plt.grid()\n",
    "plt.show()"
   ]
  },
  {
   "cell_type": "code",
   "execution_count": 3,
   "metadata": {},
   "outputs": [
    {
     "data": {
      "image/png": "[encoded data removed]",
      "text/plain": [
       "<matplotlib.figure.Figure at 0x1088ea3c8>"
      ]
     },
     "metadata": {},
     "output_type": "display_data"
    }
   ],
   "source": [
    "# Plot av Hartreepotentialen\n",
    "plt.plot(r,get_VH(r,n))\n",
    "plt.xlabel(\"r [$a_0$]\")\n",
    "plt.ylabel(\"$V_H$ [Ha]\")\n",
    "plt.title(\"Hartree potential from initial electron density\")\n",
    "plt.grid()\n",
    "plt.show()"
   ]
  }
 ],
 "metadata": {
  "kernelspec": {
   "display_name": "Python 3",
   "language": "python",
   "name": "python3"
  },
  "language_info": {
   "codemirror_mode": {
    "name": "ipython",
    "version": 3
   },
   "file_extension": ".py",
   "mimetype": "text/x-python",
   "name": "python",
   "nbconvert_exporter": "python",
   "pygments_lexer": "ipython3",
   "version": "3.6.5"
  }
 },
 "nbformat": 4,
 "nbformat_minor": 2
}
