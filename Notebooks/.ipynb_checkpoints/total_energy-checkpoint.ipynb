{
 "cells": [
  {
   "cell_type": "markdown",
   "metadata": {},
   "source": [
    "# Uträkning av systemets totala energi\n",
    "\n",
    "Efter [ha undersökt respektive bidrag till energin och den effektiva potentialen](energibidrag.html) är det intressant att undersöka hur de samverkar vid uträkning av systemets totala energi. Systemets totala energi är: \n",
    "\n",
    "$$\\begin{equation}\n",
    "\\label{eq:app_e_tot}\n",
    " E[n] = T[n] + V[n, V_\\text{ext}] + E_\\text{H}[n] +  E_\\text{xc}[n].\n",
    "\\end{equation}$$\n",
    "\n",
    "\n",
    "Vidare är den totala energin för de icke-växelverkande partiklarna \n",
    "$$\\begin{equation*}\n",
    "\\sum^N_{i=1}\\langle\\phi_i|\\left(-\\frac{1}{2}\\nabla^2 + V_\\text{eff}\\right)|\\phi_i\\rangle = \\sum^N_{i=1}\\langle\\phi_i|\\varepsilon_i|\\phi_i\\rangle = \\sum^N_{i=1}\\varepsilon_i\\langle\\phi_i|\\phi_i\\rangle = \\sum^N_{i=1}\\varepsilon_i\n",
    "\\end{equation*}$$\n",
    "\n",
    "[enligt Kohn-Shams ekvation](kohn-sham.html). Denna energi är partiklarnas rörelseenergi och potentiell energi från den effektiva potentialen $V_\\text{eff}$, alltså gäller att\n",
    "\n",
    "$$\\begin{equation}\n",
    "    \\label{eq:app_T_V}\n",
    "    \\sum^N_{i=1}\\varepsilon_i = T[n] + V[n, V_\\text{eff}].\n",
    "\\end{equation}$$\n",
    "\n",
    "$V[n, V_\\text{eff}]$ evalueras till\n",
    "\n",
    "$$\\begin{equation*}\n",
    "            V[n, V_\\text{eff}] = \\int n(\\vec{r})V_\\text{eff}(\\vec{r}) dV = \\int \\left(n(\\vec{r}) V_\\text{ext}(\\vec{r}) + n(\\vec{r}) V_\\text{H}(\\vec{r}) + n(\\vec{r})V_\\text{xc}(\\vec{r}) \\right) dV\n",
    "\\end{equation*}$$\n",
    "\n",
    "där respektive integral beräknas till\n",
    "\n",
    "$$\n",
    "\\int n(\\vec{r})V_\\text{ext}(\\vec{r}) = V[n, V_\\text{ext}] $$\n",
    "$$\n",
    "\\int n(\\vec{r})V_\\text{H}(\\vec{r}) = \\iint \\frac{n(\\vec{r'})n(\\vec{r})}{|\\vec{r'} - \\vec{r}|} dV' dV = 2\\cdot E_\\text{H}[n] $$\n",
    "\n",
    "\n",
    "\n",
    "$$\n",
    "\\int n(\\vec{r})V_\\text{xc}(\\vec{r}) = \\int n(\\vec{r}) \\varepsilon_\\text{xc}^\\text{HEG}(\\vec{r}, n(\\vec{r})) dV + \\int n^2(\\vec{r})\\frac{d}{dn}\\varepsilon_\\text{xc}^\\text{HEG}(\\vec{r}, n(\\vec{r}))dV = E_\\text{xc}[n] + \\int n^2(\\vec{r})\\frac{d}{dn}\\varepsilon_\\text{xc}^\\text{HEG}(\\vec{r}, n(\\vec{r})) dV$$ \n",
    "\n",
    "\n",
    "Tillsammans med ekvation (\\ref{eq:app_T_V}) blir då ekvation (\\ref{eq:app_e_tot})\n",
    "\n",
    "$$\\begin{align*}\n",
    "E[n] &= \\sum^N_{i=1}\\varepsilon_i - V[n, V_\\text{eff}] + V[n,V_\\text{ext}] + E_\\text{H}[n] + E_\\text{xc}[n] \\\\\n",
    " &= \\sum^N_{i=1}\\varepsilon_i - V[n, V_\\text{ext}] - 2E_\\text{H}[n] - E_\\text{xc}[n] - \\int n^2(\\vec{r})\\frac{d}{d n}\\varepsilon_\\text{xc}^\\text{HEG}(\\vec{r}, n(\\vec{r})) dV + V[n,V_\\text{ext}] + E_\\text{H}[n] + E_\\text{xc}[n] \\\\\n",
    "            & = \\sum^N_{i=1}\\varepsilon_i - E_\\text{H}[n] - \\int n^2(\\vec{r})\\frac{d}{d n}\\varepsilon_\\text{xc}^\\text{HEG}(\\vec{r}, n(\\vec{r})) dV \\\\\n",
    "            & = \\sum^N_{i=1}\\varepsilon_i - \\int n(\\vec{r}) \\left( \\frac{1}{2}V_\\text{H}(\\vec{r}) + V_\\text{xc}(\\vec{r}) - \\varepsilon_\\text{xc}(\\vec{r}, n(\\vec{r})) \\right)d V \\mathrm{,}\n",
    "         \\end{align*}$$\n",
    "        \n",
    "vilket är uttrycket för systemets energi. I Python blir implementationen"
   ]
  },
  {
   "cell_type": "code",
   "execution_count": 1,
   "metadata": {},
   "outputs": [],
   "source": [
    "import scipy.integrate\n",
    "\n",
    "def get_energy(r, eigenval, V_H, V_xc, e_xc):\n",
    "    return 2 * eigenval - scipy.integrate.simps(1/2 * V_H + V_xc - e_xc, r)"
   ]
  }
 ],
 "metadata": {
  "kernelspec": {
   "display_name": "Python 3",
   "language": "python",
   "name": "python3"
  },
  "language_info": {
   "codemirror_mode": {
    "name": "ipython",
    "version": 3
   },
   "file_extension": ".py",
   "mimetype": "text/x-python",
   "name": "python",
   "nbconvert_exporter": "python",
   "pygments_lexer": "ipython3",
   "version": "3.6.5"
  }
 },
 "nbformat": 4,
 "nbformat_minor": 2
}
