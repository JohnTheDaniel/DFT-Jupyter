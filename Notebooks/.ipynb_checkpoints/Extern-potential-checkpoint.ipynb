{
 "cells": [
  {
   "cell_type": "markdown",
   "metadata": {},
   "source": [
    "# Uträkning av extern potential\n",
    "\n",
    "Den externa potentialen uppkommer av Coulombkrafter mellan en elektron och de närliggande atomkärnorna. Det totala potentialbidraget för en elektron i läge $\\vec{r}$ kan skrivas som en summa över alla kringliggande atomer $\\alpha$:\n",
    "\n",
    "$$\\begin{equation}\n",
    "    \\label{potential_theory}\n",
    "    V_\\text{ext}(\\vec{r}) = -\\sum_\\alpha \\frac{Z_\\alpha}{|\\vec{r}_\\alpha - \\vec{r}|} \\mathrm{,}\n",
    "\\end{equation}$$\n",
    "\n",
    "där $Z_\\alpha$ och $\\vec{r}_\\alpha$ är antalet protoner respektive läget för varje atomkärna."
   ]
  },
  {
   "cell_type": "markdown",
   "metadata": {},
   "source": [
    "För helium gäller att $Z_\\alpha = 2$. Vidare behandlar implementationen enbart en atom, vilket innebär att $\\vec{r}_\\alpha = 0$. Detta innebär att $|\\vec{r}_\\alpha - \\vec{r}| = |\\vec{r}| = r$ "
   ]
  },
  {
   "cell_type": "markdown",
   "metadata": {},
   "source": [
    "För att denna potential ska kunna tas i hänsyn behöver den skrivas på matrisform. Implementationen blir:"
   ]
  },
  {
   "cell_type": "code",
   "execution_count": 1,
   "metadata": {},
   "outputs": [],
   "source": [
    "import numpy as np\n",
    "\n",
    "def get_Vext(r):\n",
    "    Z = 2\n",
    "    potential = 2/r[1:-1]\n",
    "    \n",
    "    # Make it a diagonal matrix, appropiate for eigenvalue problem i Kohn Sham equation\n",
    "    return -np.diag(potential)"
   ]
  },
  {
   "cell_type": "markdown",
   "metadata": {},
   "source": [
    "Nedan visas externa potentialen mot $r$:"
   ]
  },
  {
   "cell_type": "code",
   "execution_count": 2,
   "metadata": {},
   "outputs": [
    {
     "data": {
      "image/png": "[encoded data removed]",
      "text/plain": [
       "<matplotlib.figure.Figure at 0x1110e1da0>"
      ]
     },
     "metadata": {},
     "output_type": "display_data"
    }
   ],
   "source": [
    "%matplotlib inline\n",
    "\n",
    "import matplotlib.pyplot as plt\n",
    "\n",
    "r = np.linspace(0,15,100)\n",
    "\n",
    "plt.plot(r[1:-1], np.diag(get_Vext(r)))\n",
    "plt.grid()\n",
    "plt.xlabel(\"r [$a_0$]\")\n",
    "plt.ylabel(\"$V_{ext}$ [Ha]\")\n",
    "plt.show()"
   ]
  }
 ],
 "metadata": {
  "kernelspec": {
   "display_name": "Python 3",
   "language": "python",
   "name": "python3"
  },
  "language_info": {
   "codemirror_mode": {
    "name": "ipython",
    "version": 3
   },
   "file_extension": ".py",
   "mimetype": "text/x-python",
   "name": "python",
   "nbconvert_exporter": "python",
   "pygments_lexer": "ipython3",
   "version": "3.6.5"
  }
 },
 "nbformat": 4,
 "nbformat_minor": 2
}
