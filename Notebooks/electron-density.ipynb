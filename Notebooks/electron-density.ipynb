{
 "cells": [
  {
   "cell_type": "markdown",
   "metadata": {},
   "source": [
    "<script type=\"text/x-mathjax-config\">\n",
    "MathJax.Hub.Config({\n",
    "  TeX: { equationNumbers: { autoNumber: \"AMS\" } }\n",
    "});\n",
    "</script>\n",
    "# Beräkning av elektrontäthet"
   ]
  },
  {
   "cell_type": "markdown",
   "metadata": {},
   "source": [
    "Att uttrycka problemet i termer av elektrontätheten $n(\\vec{r})$ istället får vågfunktioner förenklar problemet avsevärt, eftersom antalet koordinater reduceras från tre per elektron till totalt tre. Alla potentialer och energier kan uttryckas som funktional av elektrontätheten, och är enligt Första Hohenberg-Kohn-teoremet ekvivalent med att uttrycka dem i termer av vågfunktioner.\\cite[s.~8]{Finocchi2011DensityApproaches}"
   ]
  },
  {
   "cell_type": "markdown",
   "metadata": {},
   "source": [
    "## Bakomliggande teori"
   ]
  },
  {
   "cell_type": "markdown",
   "metadata": {},
   "source": [
    "Elektrontätheten $n(\\vec{r})$ för ett system med $N$ elektroner och vågfunktion $\\Psi(\\vec{x_1}, \\dots, \\vec{x_N})$ definieras enligt\n",
    "\n",
    "$$\\begin{equation}\n",
    "    \\label{eq:def_density}\n",
    "    n(\\vec{r}) = N \\int |\\Psi(\\vec{x_1}, \\vec{x_2}, \\vec{x_3}, \\dots, \\vec{x_N})|^2 d\\sigma_1 \\vec{dx_2} \\vec{dx_3} \\dots \\vec{x_N},\n",
    "\\end{equation}$$.\n",
    "\n",
    "där $\\vec{x_i} = (\\vec{r_i}, \\sigma_i)$ är rums- och spinnkoordinat för partikel $i$. \\cite[s.~47]{Burke2007TheDFT}\n",
    "\n",
    "Som tidigare nämnts förenklas uträkningarna genom att räkna på fiktiva, icke-interagerande Kohn-Sham-partiklar. För Kohn-Sham-partiklarna ansätts vågfunktionerna $\\psi_i(\\vec{x}_i)$ som är  ortogonala mot varandra.\n",
    " \n",
    "Eftersom elektroner är fermioner (partiklar med halvtaligt spinn), måste \\emph{Pauliprincipen} vara uppfylld. Principen säger att två fermioner i ett kvantsystem inte kan anta samma kvanttillstånd samtidigt. Av detta följer att vågfunktionen för ett system av fermioner är anti-symmetrisk om två partiklar byter rum- och spinnkoordinat med varandra. För att uppfylla detta villkor måste $\\Psi$ vara på formen\n",
    "\n",
    "$$\\begin{equation}\n",
    "    \\Psi = \\frac{1}{\\sqrt{N \\text{!}}} \\left| \\begin{array}\n",
    "        \\\\\\psi_1(\\vec{x_1}) & \\psi_2(\\vec{x_1}) & \\dots & \\psi_N(\\vec{x_1}) \\\\\n",
    "        \\psi_1(\\vec{x_2}) & \\psi_2(\\vec{x_2}) & \\dots & \\psi_N(\\vec{x_2}) \\\\\n",
    "        \\vdots & \\vdots & \\ddots & \\vdots \\\\\n",
    "        \\psi_1(\\vec{x_N}) & \\psi_2(\\vec{x_N}) & \\dots & \\psi_N(\\vec{x_N}) \\\\\n",
    "    \\end{array} \\right|,\n",
    "\\end{equation}$$\n",
    "\n",
    "vilket kallas för en Slaterdeterminant. Med hjälp av ekvation (\\ref{eq:def_density}) erhålls att den samlade elektrontätheten blir\n",
    "\n",
    "$$\\begin{equation}\n",
    "    \\label{eq:density_from_orbitals}\n",
    "    n(\\vec{r}) = \\sum^N_{i=1} |\\psi_i(\\vec{r}, \\sigma_i)|^2,\n",
    "\\end{equation}$$\n",
    "\n",
    "alltså en summa av varje Kohn-Shampartikels bidrag. Om $\\Psi$ är normerad erhålles ur ekvation \\eqref{eq:def_density} att\n",
    "\n",
    "$$\\begin{equation}\n",
    "    \\label{eq:int_density}\n",
    "    \\int n(\\vec{r}) dV = N,\n",
    "\\end{equation}$$\n",
    "\n",
    "det vill säga att integralen över hela elektrontätheten $n(\\vec{r})$ är lika med totala antalet elektroner $N$."
   ]
  },
  {
   "cell_type": "markdown",
   "metadata": {},
   "source": [
    "## Implementation i kod"
   ]
  },
  {
   "cell_type": "markdown",
   "metadata": {},
   "source": [
    "Elektrontätheten beräknas enligt ekvation $\\eqref{eq:density_from_orbitals}$. För helium, som har två elektroner, kan detta ske med funktionen"
   ]
  },
  {
   "cell_type": "code",
   "execution_count": 3,
   "metadata": {},
   "outputs": [],
   "source": [
    "def get_n(Psi):\n",
    "    return 2 * np.abs(Psi) ** 2"
   ]
  },
  {
   "cell_type": "markdown",
   "metadata": {},
   "source": [
    "I detta fall gäller att $\\psi_1 = -\\psi_2$, eftersom de två elektronerna är i samma tillstånd men med olika spinn. Detta ger att $|\\psi_1|^2 = |\\psi_2|^2 = |\\psi|^2$."
   ]
  }
 ],
 "metadata": {
  "kernelspec": {
   "display_name": "Python 3",
   "language": "python",
   "name": "python3"
  },
  "language_info": {
   "codemirror_mode": {
    "name": "ipython",
    "version": 3
   },
   "file_extension": ".py",
   "mimetype": "text/x-python",
   "name": "python",
   "nbconvert_exporter": "python",
   "pygments_lexer": "ipython3",
   "version": "3.6.5"
  }
 },
 "nbformat": 4,
 "nbformat_minor": 2
}
